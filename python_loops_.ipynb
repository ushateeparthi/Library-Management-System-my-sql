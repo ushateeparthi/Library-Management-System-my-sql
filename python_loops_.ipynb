{
  "nbformat": 4,
  "nbformat_minor": 0,
  "metadata": {
    "colab": {
      "provenance": [],
      "authorship_tag": "ABX9TyOV56SCk8o+BtOcmNACZfAz",
      "include_colab_link": true
    },
    "kernelspec": {
      "name": "python3",
      "display_name": "Python 3"
    },
    "language_info": {
      "name": "python"
    }
  },
  "cells": [
    {
      "cell_type": "markdown",
      "metadata": {
        "id": "view-in-github",
        "colab_type": "text"
      },
      "source": [
        "<a href=\"https://colab.research.google.com/github/ushateeparthi/Library-Management-System-my-sql/blob/main/python_loops_.ipynb\" target=\"_parent\"><img src=\"https://colab.research.google.com/assets/colab-badge.svg\" alt=\"Open In Colab\"/></a>"
      ]
    },
    {
      "cell_type": "code",
      "source": [
        "def calculate_factorial(n):\n",
        "    factorial = 1\n",
        "    if n < 0:\n",
        "        return \"Factorial is not defined for negative numbers.\"\n",
        "    elif n == 0:\n",
        "        return 1\n",
        "    else:\n",
        "        for i in range(1, n + 1):\n",
        "            factorial *= i\n",
        "        return factorial\n",
        "\n",
        "def main():\n",
        "    while True:\n",
        "        try:\n",
        "            num = int(input(\"Enter a non-negative integer to calculate its factorial: \"))\n",
        "            result = calculate_factorial(num)\n",
        "            print(f\"The factorial of {num} is: {result}\")\n",
        "            break\n",
        "        except ValueError:\n",
        "            print(\"Please enter a valid integer.\")\n",
        "\n",
        "if __name__ == \"__main__\":\n",
        "    main()\n"
      ],
      "metadata": {
        "colab": {
          "base_uri": "https://localhost:8080/"
        },
        "id": "290IVB_2JVIN",
        "outputId": "649d93ee-c652-4e1a-c8de-ef8a040d54a1"
      },
      "execution_count": 18,
      "outputs": [
        {
          "output_type": "stream",
          "name": "stdout",
          "text": [
            "Enter a non-negative integer to calculate its factorial: 9\n",
            "The factorial of 9 is: 362880\n"
          ]
        }
      ]
    }
  ]
}